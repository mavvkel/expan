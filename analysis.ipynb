{
 "cells": [
  {
   "cell_type": "markdown",
   "source": [
    "# Setup"
   ],
   "metadata": {
    "collapsed": false
   }
  },
  {
   "cell_type": "code",
   "execution_count": 1,
   "metadata": {
    "collapsed": true,
    "ExecuteTime": {
     "end_time": "2023-08-03T00:24:07.310491400Z",
     "start_time": "2023-08-03T00:24:06.915630200Z"
    }
   },
   "outputs": [],
   "source": [
    "import pandas as pd\n",
    "import numpy as np\n",
    "import sys\n",
    "\n",
    "#arg = 'Lista_transakcji_nr_0166140511_020823.csv'\n",
    "arg = 'Lista_transakcji_nr_0166141168_020823.csv'"
   ]
  },
  {
   "cell_type": "code",
   "execution_count": 2,
   "outputs": [
    {
     "data": {
      "text/plain": "    Data transakcji                       Dane kontrahenta  \\\n0        2023-06-30        ZABKA ZB083 K.1  WARSZAWA  POL    \n1        2023-06-28                LIDL 1671  LUBLIN  POL    \n2        2023-06-28                LIDL 1671  LUBLIN  POL    \n4        2023-06-28             STOKROTKA 10  LUBLIN  POL    \n5        2023-06-28      ADOBE CREATIVE CLOUD      Dublin    \n..              ...                                    ...   \n108      2023-06-01   K001G21307 POLWYSEP 97  WARSZAWA  P    \n109      2023-06-01     JMP S.A. BIEDRONKA 2347  WARSZAWA    \n110      2023-06-01   MAISON CHARLOTTE SP Z  WARSZAWA  PO    \n111      2023-06-01      ADOBE CREATIVE CLOUD      Dublin    \n112      2023-06-01                CITYFIT  WARSZAWA  POL    \n\n                                                 Tytuł  Szczegóły  \\\n0        Płatność kartą 30.06.2023 Nr karty 4246xx2194    -4.99     \n1        Płatność kartą 28.06.2023 Nr karty 4246xx2194   -13.41     \n2        Płatność kartą 28.06.2023 Nr karty 4246xx2194  -272.22     \n4        Płatność kartą 28.06.2023 Nr karty 4246xx2194    -6.18     \n5     Prowizja za przewalutowanie Płatność kartą 26...    -4.10     \n..                                                 ...        ...   \n108      Płatność kartą 01.06.2023 Nr karty 4246xx2194   -34.90     \n109      Płatność kartą 01.06.2023 Nr karty 4246xx2194   -13.26     \n110      Płatność kartą 01.06.2023 Nr karty 4246xx2194   -24.00     \n111   Prowizja za przewalutowanie Płatność kartą 30...    -4.19     \n112      Płatność kartą 01.06.2023 Nr karty 4246xx2194  -190.95     \n\n    Kwota transakcji (waluta rachunku) Kwota blokady/zwolnienie blokady  \\\n0                                -4,99                              NaN   \n1                               -13,41                              NaN   \n2                              -272,22                              NaN   \n4                                -6,18                              NaN   \n5                                -4,10                              NaN   \n..                                 ...                              ...   \n108                             -34,90                              NaN   \n109                             -13,26                              NaN   \n110                             -24,00                              NaN   \n111                              -4,19                              NaN   \n112                            -190,95                              NaN   \n\n    Saldo po transakcji  \n0                 67,32  \n1                 72,31  \n2                 85,72  \n4                 57,94  \n5                 64,12  \n..                  ...  \n108               23,38  \n109               58,28  \n110               71,54  \n111               95,54  \n112               99,73  \n\n[95 rows x 7 columns]",
      "text/html": "<div>\n<style scoped>\n    .dataframe tbody tr th:only-of-type {\n        vertical-align: middle;\n    }\n\n    .dataframe tbody tr th {\n        vertical-align: top;\n    }\n\n    .dataframe thead th {\n        text-align: right;\n    }\n</style>\n<table border=\"1\" class=\"dataframe\">\n  <thead>\n    <tr style=\"text-align: right;\">\n      <th></th>\n      <th>Data transakcji</th>\n      <th>Dane kontrahenta</th>\n      <th>Tytuł</th>\n      <th>Szczegóły</th>\n      <th>Kwota transakcji (waluta rachunku)</th>\n      <th>Kwota blokady/zwolnienie blokady</th>\n      <th>Saldo po transakcji</th>\n    </tr>\n  </thead>\n  <tbody>\n    <tr>\n      <th>0</th>\n      <td>2023-06-30</td>\n      <td>ZABKA ZB083 K.1  WARSZAWA  POL</td>\n      <td>Płatność kartą 30.06.2023 Nr karty 4246xx2194</td>\n      <td>-4.99</td>\n      <td>-4,99</td>\n      <td>NaN</td>\n      <td>67,32</td>\n    </tr>\n    <tr>\n      <th>1</th>\n      <td>2023-06-28</td>\n      <td>LIDL 1671  LUBLIN  POL</td>\n      <td>Płatność kartą 28.06.2023 Nr karty 4246xx2194</td>\n      <td>-13.41</td>\n      <td>-13,41</td>\n      <td>NaN</td>\n      <td>72,31</td>\n    </tr>\n    <tr>\n      <th>2</th>\n      <td>2023-06-28</td>\n      <td>LIDL 1671  LUBLIN  POL</td>\n      <td>Płatność kartą 28.06.2023 Nr karty 4246xx2194</td>\n      <td>-272.22</td>\n      <td>-272,22</td>\n      <td>NaN</td>\n      <td>85,72</td>\n    </tr>\n    <tr>\n      <th>4</th>\n      <td>2023-06-28</td>\n      <td>STOKROTKA 10  LUBLIN  POL</td>\n      <td>Płatność kartą 28.06.2023 Nr karty 4246xx2194</td>\n      <td>-6.18</td>\n      <td>-6,18</td>\n      <td>NaN</td>\n      <td>57,94</td>\n    </tr>\n    <tr>\n      <th>5</th>\n      <td>2023-06-28</td>\n      <td>ADOBE CREATIVE CLOUD      Dublin</td>\n      <td>Prowizja za przewalutowanie Płatność kartą 26...</td>\n      <td>-4.10</td>\n      <td>-4,10</td>\n      <td>NaN</td>\n      <td>64,12</td>\n    </tr>\n    <tr>\n      <th>...</th>\n      <td>...</td>\n      <td>...</td>\n      <td>...</td>\n      <td>...</td>\n      <td>...</td>\n      <td>...</td>\n      <td>...</td>\n    </tr>\n    <tr>\n      <th>108</th>\n      <td>2023-06-01</td>\n      <td>K001G21307 POLWYSEP 97  WARSZAWA  P</td>\n      <td>Płatność kartą 01.06.2023 Nr karty 4246xx2194</td>\n      <td>-34.90</td>\n      <td>-34,90</td>\n      <td>NaN</td>\n      <td>23,38</td>\n    </tr>\n    <tr>\n      <th>109</th>\n      <td>2023-06-01</td>\n      <td>JMP S.A. BIEDRONKA 2347  WARSZAWA</td>\n      <td>Płatność kartą 01.06.2023 Nr karty 4246xx2194</td>\n      <td>-13.26</td>\n      <td>-13,26</td>\n      <td>NaN</td>\n      <td>58,28</td>\n    </tr>\n    <tr>\n      <th>110</th>\n      <td>2023-06-01</td>\n      <td>MAISON CHARLOTTE SP Z  WARSZAWA  PO</td>\n      <td>Płatność kartą 01.06.2023 Nr karty 4246xx2194</td>\n      <td>-24.00</td>\n      <td>-24,00</td>\n      <td>NaN</td>\n      <td>71,54</td>\n    </tr>\n    <tr>\n      <th>111</th>\n      <td>2023-06-01</td>\n      <td>ADOBE CREATIVE CLOUD      Dublin</td>\n      <td>Prowizja za przewalutowanie Płatność kartą 30...</td>\n      <td>-4.19</td>\n      <td>-4,19</td>\n      <td>NaN</td>\n      <td>95,54</td>\n    </tr>\n    <tr>\n      <th>112</th>\n      <td>2023-06-01</td>\n      <td>CITYFIT  WARSZAWA  POL</td>\n      <td>Płatność kartą 01.06.2023 Nr karty 4246xx2194</td>\n      <td>-190.95</td>\n      <td>-190,95</td>\n      <td>NaN</td>\n      <td>99,73</td>\n    </tr>\n  </tbody>\n</table>\n<p>95 rows × 7 columns</p>\n</div>"
     },
     "execution_count": 2,
     "metadata": {},
     "output_type": "execute_result"
    }
   ],
   "source": [
    "exps = pd.read_csv(filepath_or_buffer=arg,\n",
    "                   sep=';',\n",
    "                   header=11,\n",
    "                   encoding='ansi',\n",
    "                   on_bad_lines='skip',\n",
    "                   usecols=range(0, 15))\n",
    "\n",
    "exps = exps.drop(columns=['Data księgowania', 'Nr rachunku', 'Nazwa banku', 'Nr transakcji', 'Waluta', 'Waluta.1', 'Waluta.2', 'Kwota płatności w walucie'])\n",
    "# last row is some note\n",
    "exps = exps[0:-1]\n",
    "exps = exps.loc[-exps['Tytuł'].str.contains('Own transfer')]\n",
    "exps = exps.loc[-exps['Tytuł'].str.contains('Przelew własny')]\n",
    "exps"
   ],
   "metadata": {
    "collapsed": false,
    "ExecuteTime": {
     "end_time": "2023-08-03T00:24:07.376099300Z",
     "start_time": "2023-08-03T00:24:07.311803Z"
    }
   }
  },
  {
   "cell_type": "markdown",
   "source": [
    "Skompresuj 3 kolumny związane z kwotą w jedn\n",
    "ą"
   ],
   "metadata": {
    "collapsed": false
   }
  },
  {
   "cell_type": "code",
   "execution_count": 3,
   "outputs": [
    {
     "data": {
      "text/plain": "    Data transakcji                       Dane kontrahenta  \\\n0        2023-06-30        ZABKA ZB083 K.1  WARSZAWA  POL    \n1        2023-06-28                LIDL 1671  LUBLIN  POL    \n2        2023-06-28                LIDL 1671  LUBLIN  POL    \n4        2023-06-28             STOKROTKA 10  LUBLIN  POL    \n5        2023-06-28      ADOBE CREATIVE CLOUD      Dublin    \n..              ...                                    ...   \n108      2023-06-01   K001G21307 POLWYSEP 97  WARSZAWA  P    \n109      2023-06-01     JMP S.A. BIEDRONKA 2347  WARSZAWA    \n110      2023-06-01   MAISON CHARLOTTE SP Z  WARSZAWA  PO    \n111      2023-06-01      ADOBE CREATIVE CLOUD      Dublin    \n112      2023-06-01                CITYFIT  WARSZAWA  POL    \n\n                                                 Tytuł Saldo po transakcji  \\\n0        Płatność kartą 30.06.2023 Nr karty 4246xx2194               67,32   \n1        Płatność kartą 28.06.2023 Nr karty 4246xx2194               72,31   \n2        Płatność kartą 28.06.2023 Nr karty 4246xx2194               85,72   \n4        Płatność kartą 28.06.2023 Nr karty 4246xx2194               57,94   \n5     Prowizja za przewalutowanie Płatność kartą 26...               64,12   \n..                                                 ...                 ...   \n108      Płatność kartą 01.06.2023 Nr karty 4246xx2194               23,38   \n109      Płatność kartą 01.06.2023 Nr karty 4246xx2194               58,28   \n110      Płatność kartą 01.06.2023 Nr karty 4246xx2194               71,54   \n111   Prowizja za przewalutowanie Płatność kartą 30...               95,54   \n112      Płatność kartą 01.06.2023 Nr karty 4246xx2194               99,73   \n\n         Kwota  \n0      -4.99    \n1     -13.41    \n2    -272.22    \n4      -6.18    \n5      -4.10    \n..         ...  \n108   -34.90    \n109   -13.26    \n110   -24.00    \n111    -4.19    \n112  -190.95    \n\n[95 rows x 5 columns]",
      "text/html": "<div>\n<style scoped>\n    .dataframe tbody tr th:only-of-type {\n        vertical-align: middle;\n    }\n\n    .dataframe tbody tr th {\n        vertical-align: top;\n    }\n\n    .dataframe thead th {\n        text-align: right;\n    }\n</style>\n<table border=\"1\" class=\"dataframe\">\n  <thead>\n    <tr style=\"text-align: right;\">\n      <th></th>\n      <th>Data transakcji</th>\n      <th>Dane kontrahenta</th>\n      <th>Tytuł</th>\n      <th>Saldo po transakcji</th>\n      <th>Kwota</th>\n    </tr>\n  </thead>\n  <tbody>\n    <tr>\n      <th>0</th>\n      <td>2023-06-30</td>\n      <td>ZABKA ZB083 K.1  WARSZAWA  POL</td>\n      <td>Płatność kartą 30.06.2023 Nr karty 4246xx2194</td>\n      <td>67,32</td>\n      <td>-4.99</td>\n    </tr>\n    <tr>\n      <th>1</th>\n      <td>2023-06-28</td>\n      <td>LIDL 1671  LUBLIN  POL</td>\n      <td>Płatność kartą 28.06.2023 Nr karty 4246xx2194</td>\n      <td>72,31</td>\n      <td>-13.41</td>\n    </tr>\n    <tr>\n      <th>2</th>\n      <td>2023-06-28</td>\n      <td>LIDL 1671  LUBLIN  POL</td>\n      <td>Płatność kartą 28.06.2023 Nr karty 4246xx2194</td>\n      <td>85,72</td>\n      <td>-272.22</td>\n    </tr>\n    <tr>\n      <th>4</th>\n      <td>2023-06-28</td>\n      <td>STOKROTKA 10  LUBLIN  POL</td>\n      <td>Płatność kartą 28.06.2023 Nr karty 4246xx2194</td>\n      <td>57,94</td>\n      <td>-6.18</td>\n    </tr>\n    <tr>\n      <th>5</th>\n      <td>2023-06-28</td>\n      <td>ADOBE CREATIVE CLOUD      Dublin</td>\n      <td>Prowizja za przewalutowanie Płatność kartą 26...</td>\n      <td>64,12</td>\n      <td>-4.10</td>\n    </tr>\n    <tr>\n      <th>...</th>\n      <td>...</td>\n      <td>...</td>\n      <td>...</td>\n      <td>...</td>\n      <td>...</td>\n    </tr>\n    <tr>\n      <th>108</th>\n      <td>2023-06-01</td>\n      <td>K001G21307 POLWYSEP 97  WARSZAWA  P</td>\n      <td>Płatność kartą 01.06.2023 Nr karty 4246xx2194</td>\n      <td>23,38</td>\n      <td>-34.90</td>\n    </tr>\n    <tr>\n      <th>109</th>\n      <td>2023-06-01</td>\n      <td>JMP S.A. BIEDRONKA 2347  WARSZAWA</td>\n      <td>Płatność kartą 01.06.2023 Nr karty 4246xx2194</td>\n      <td>58,28</td>\n      <td>-13.26</td>\n    </tr>\n    <tr>\n      <th>110</th>\n      <td>2023-06-01</td>\n      <td>MAISON CHARLOTTE SP Z  WARSZAWA  PO</td>\n      <td>Płatność kartą 01.06.2023 Nr karty 4246xx2194</td>\n      <td>71,54</td>\n      <td>-24.00</td>\n    </tr>\n    <tr>\n      <th>111</th>\n      <td>2023-06-01</td>\n      <td>ADOBE CREATIVE CLOUD      Dublin</td>\n      <td>Prowizja za przewalutowanie Płatność kartą 30...</td>\n      <td>95,54</td>\n      <td>-4.19</td>\n    </tr>\n    <tr>\n      <th>112</th>\n      <td>2023-06-01</td>\n      <td>CITYFIT  WARSZAWA  POL</td>\n      <td>Płatność kartą 01.06.2023 Nr karty 4246xx2194</td>\n      <td>99,73</td>\n      <td>-190.95</td>\n    </tr>\n  </tbody>\n</table>\n<p>95 rows × 5 columns</p>\n</div>"
     },
     "execution_count": 3,
     "metadata": {},
     "output_type": "execute_result"
    }
   ],
   "source": [
    "exps['Kwota'] = np.where(exps['Kwota'].isnull(), exps['Kwota blokady/zwolnienie blokady'], exps['Kwota'])\n",
    "exps = exps.drop(columns=['Szczegóły', 'Kwota transakcji (waluta rachunku)', 'Kwota blokady/zwolnienie blokady'])\n",
    "exps"
   ],
   "metadata": {
    "collapsed": false,
    "ExecuteTime": {
     "end_time": "2023-08-03T00:24:07.382117600Z",
     "start_time": "2023-08-03T00:24:07.366286800Z"
    }
   }
  }
 ],
 "metadata": {
  "kernelspec": {
   "display_name": "Python 3",
   "language": "python",
   "name": "python3"
  },
  "language_info": {
   "codemirror_mode": {
    "name": "ipython",
    "version": 2
   },
   "file_extension": ".py",
   "mimetype": "text/x-python",
   "name": "python",
   "nbconvert_exporter": "python",
   "pygments_lexer": "ipython2",
   "version": "2.7.6"
  }
 },
 "nbformat": 4,
 "nbformat_minor": 0
}
